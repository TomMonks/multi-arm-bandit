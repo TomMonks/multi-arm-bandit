{
 "cells": [
  {
   "cell_type": "markdown",
   "metadata": {},
   "source": [
    "# Reinforcement Learning Lecture 1: Multi-arm bandit problem"
   ]
  },
  {
   "cell_type": "code",
   "execution_count": 1,
   "metadata": {},
   "outputs": [],
   "source": [
    "import numpy as np\n",
    "import matplotlib.pyplot as plt\n",
    "%matplotlib inline"
   ]
  },
  {
   "cell_type": "code",
   "execution_count": 2,
   "metadata": {},
   "outputs": [],
   "source": [
    "from relearn.bandit_world.agents import (EpsilonGreedy, \n",
    "                                         AnnealingEpsilonGreedy,\n",
    "                                         OptimisticInitialValues)\n",
    "\n",
    "from relearn.bandit_world.environments import (BernoulliBandit, \n",
    "                                               BernoulliCasino, \n",
    "                                               custom_bandit_problem)\n",
    "\n",
    "from test_bandit_agents import (print_reward, \n",
    "                                visualise_agent_actions,\n",
    "                                anneal_experiment,\n",
    "                                optimistic_experiment,\n",
    "                                epsilon_greedy_experiment)"
   ]
  },
  {
   "cell_type": "markdown",
   "metadata": {},
   "source": [
    "## Actual Bandits Payout Rates\n",
    "\n",
    "* Bandit 1: 0.2\n",
    "* Bandit 2: 0.5\n",
    "* Bandit 3: 0.3\n",
    "* Bandit 4: 0.75\n",
    "* Bandit 5: 0.3"
   ]
  },
  {
   "cell_type": "markdown",
   "metadata": {},
   "source": [
    "## Epsilon-Greedy Algorithm"
   ]
  },
  {
   "cell_type": "code",
   "execution_count": 4,
   "metadata": {},
   "outputs": [
    {
     "name": "stdout",
     "output_type": "stream",
     "text": [
      "------\n",
      "Agent: Epsilon-Greedy\n",
      "Total reward: 10\n",
      "\n",
      "Final Model:\n",
      "------\n",
      "Bandit 1:\t0.25\n",
      "Bandit 2:\t0.00\n",
      "Bandit 3:\t0.00\n",
      "Bandit 4:\t0.00\n",
      "Bandit 5:\t0.39\n"
     ]
    },
    {
     "data": {
      "image/png": "[encoded data removed]",
      "text/plain": [
       "<Figure size 432x288 with 1 Axes>"
      ]
     },
     "metadata": {
      "needs_background": "light"
     },
     "output_type": "display_data"
    }
   ],
   "source": [
    "epsilon_greedy_experiment(epsilon=0.3, budget=30, random_state=99)"
   ]
  },
  {
   "cell_type": "markdown",
   "metadata": {},
   "source": [
    "## Annealing Epsilon-Greedy"
   ]
  },
  {
   "cell_type": "code",
   "execution_count": null,
   "metadata": {},
   "outputs": [],
   "source": [
    "anneal_experiment(budget=1000, random_state=99)"
   ]
  },
  {
   "cell_type": "markdown",
   "metadata": {},
   "source": [
    "## Optimisitic Initial Values"
   ]
  },
  {
   "cell_type": "code",
   "execution_count": null,
   "metadata": {},
   "outputs": [],
   "source": [
    "optimistic_experiment(budget=1000, random_state=99)"
   ]
  },
  {
   "cell_type": "code",
   "execution_count": null,
   "metadata": {},
   "outputs": [],
   "source": []
  },
  {
   "cell_type": "code",
   "execution_count": null,
   "metadata": {},
   "outputs": [],
   "source": []
  }
 ],
 "metadata": {
  "kernelspec": {
   "display_name": "Python 3",
   "language": "python",
   "name": "python3"
  },
  "language_info": {
   "codemirror_mode": {
    "name": "ipython",
    "version": 3
   },
   "file_extension": ".py",
   "mimetype": "text/x-python",
   "name": "python",
   "nbconvert_exporter": "python",
   "pygments_lexer": "ipython3",
   "version": "3.7.2"
  }
 },
 "nbformat": 4,
 "nbformat_minor": 2
}
